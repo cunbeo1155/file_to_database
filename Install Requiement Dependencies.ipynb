{
 "cells": [
  {
   "cell_type": "code",
   "execution_count": 1,
   "metadata": {},
   "outputs": [
    {
     "name": "stdout",
     "output_type": "stream",
     "text": [
      "Collecting ipython-sql\n",
      "  Downloading ipython_sql-0.5.0-py3-none-any.whl.metadata (17 kB)\n",
      "Collecting prettytable (from ipython-sql)\n",
      "  Using cached prettytable-3.10.0-py3-none-any.whl.metadata (30 kB)\n",
      "Requirement already satisfied: ipython in c:\\users\\nguye\\appdata\\roaming\\python\\python311\\site-packages (from ipython-sql) (8.21.0)\n",
      "Requirement already satisfied: sqlalchemy>=2.0 in c:\\users\\nguye\\appdata\\local\\programs\\python\\python311\\lib\\site-packages (from ipython-sql) (2.0.29)\n",
      "Collecting sqlparse (from ipython-sql)\n",
      "  Downloading sqlparse-0.5.0-py3-none-any.whl.metadata (3.9 kB)\n",
      "Requirement already satisfied: six in c:\\users\\nguye\\appdata\\roaming\\python\\python311\\site-packages (from ipython-sql) (1.16.0)\n",
      "Collecting ipython-genutils (from ipython-sql)\n",
      "  Downloading ipython_genutils-0.2.0-py2.py3-none-any.whl.metadata (755 bytes)\n",
      "Requirement already satisfied: typing-extensions>=4.6.0 in c:\\users\\nguye\\appdata\\local\\programs\\python\\python311\\lib\\site-packages (from sqlalchemy>=2.0->ipython-sql) (4.11.0)\n",
      "Requirement already satisfied: greenlet!=0.4.17 in c:\\users\\nguye\\appdata\\local\\programs\\python\\python311\\lib\\site-packages (from sqlalchemy>=2.0->ipython-sql) (3.0.3)\n",
      "Requirement already satisfied: decorator in c:\\users\\nguye\\appdata\\roaming\\python\\python311\\site-packages (from ipython->ipython-sql) (5.1.1)\n",
      "Requirement already satisfied: jedi>=0.16 in c:\\users\\nguye\\appdata\\roaming\\python\\python311\\site-packages (from ipython->ipython-sql) (0.19.1)\n",
      "Requirement already satisfied: matplotlib-inline in c:\\users\\nguye\\appdata\\roaming\\python\\python311\\site-packages (from ipython->ipython-sql) (0.1.6)\n",
      "Requirement already satisfied: prompt-toolkit<3.1.0,>=3.0.41 in c:\\users\\nguye\\appdata\\roaming\\python\\python311\\site-packages (from ipython->ipython-sql) (3.0.43)\n",
      "Requirement already satisfied: pygments>=2.4.0 in c:\\users\\nguye\\appdata\\roaming\\python\\python311\\site-packages (from ipython->ipython-sql) (2.17.2)\n",
      "Requirement already satisfied: stack-data in c:\\users\\nguye\\appdata\\roaming\\python\\python311\\site-packages (from ipython->ipython-sql) (0.6.3)\n",
      "Requirement already satisfied: traitlets>=5 in c:\\users\\nguye\\appdata\\roaming\\python\\python311\\site-packages (from ipython->ipython-sql) (5.14.1)\n",
      "Requirement already satisfied: colorama in c:\\users\\nguye\\appdata\\roaming\\python\\python311\\site-packages (from ipython->ipython-sql) (0.4.6)\n",
      "Requirement already satisfied: wcwidth in c:\\users\\nguye\\appdata\\roaming\\python\\python311\\site-packages (from prettytable->ipython-sql) (0.2.13)\n",
      "Requirement already satisfied: parso<0.9.0,>=0.8.3 in c:\\users\\nguye\\appdata\\roaming\\python\\python311\\site-packages (from jedi>=0.16->ipython->ipython-sql) (0.8.3)\n",
      "Requirement already satisfied: executing>=1.2.0 in c:\\users\\nguye\\appdata\\roaming\\python\\python311\\site-packages (from stack-data->ipython->ipython-sql) (2.0.1)\n",
      "Requirement already satisfied: asttokens>=2.1.0 in c:\\users\\nguye\\appdata\\roaming\\python\\python311\\site-packages (from stack-data->ipython->ipython-sql) (2.4.1)\n",
      "Requirement already satisfied: pure-eval in c:\\users\\nguye\\appdata\\roaming\\python\\python311\\site-packages (from stack-data->ipython->ipython-sql) (0.2.2)\n",
      "Using cached ipython_sql-0.5.0-py3-none-any.whl (20 kB)\n",
      "Using cached ipython_genutils-0.2.0-py2.py3-none-any.whl (26 kB)\n",
      "Downloading prettytable-3.10.0-py3-none-any.whl (28 kB)\n",
      "Downloading sqlparse-0.5.0-py3-none-any.whl (43 kB)\n",
      "   ---------------------------------------- 0.0/44.0 kB ? eta -:--:--\n",
      "   ---------------------------------------- 44.0/44.0 kB 1.1 MB/s eta 0:00:00\n",
      "Installing collected packages: ipython-genutils, sqlparse, prettytable, ipython-sql\n",
      "Successfully installed ipython-genutils-0.2.0 ipython-sql-0.5.0 prettytable-3.10.0 sqlparse-0.5.0\n"
     ]
    },
    {
     "name": "stderr",
     "output_type": "stream",
     "text": [
      "\n",
      "[notice] A new release of pip is available: 23.3.1 -> 24.0\n",
      "[notice] To update, run: python.exe -m pip install --upgrade pip\n"
     ]
    }
   ],
   "source": [
    "!pip install ipython-sql"
   ]
  },
  {
   "cell_type": "code",
   "execution_count": 2,
   "metadata": {},
   "outputs": [
    {
     "name": "stdout",
     "output_type": "stream",
     "text": [
      "Collecting psycopg2-binary\n",
      "  Downloading psycopg2_binary-2.9.9-cp311-cp311-win_amd64.whl.metadata (4.6 kB)\n",
      "Downloading psycopg2_binary-2.9.9-cp311-cp311-win_amd64.whl (1.2 MB)\n",
      "   ---------------------------------------- 0.0/1.2 MB ? eta -:--:--\n",
      "   ---------------------------------------- 0.0/1.2 MB ? eta -:--:--\n",
      "   - -------------------------------------- 0.0/1.2 MB 325.1 kB/s eta 0:00:04\n",
      "   -- ------------------------------------- 0.1/1.2 MB 651.6 kB/s eta 0:00:02\n",
      "   ----- ---------------------------------- 0.2/1.2 MB 978.3 kB/s eta 0:00:02\n",
      "   --------- ------------------------------ 0.3/1.2 MB 1.3 MB/s eta 0:00:01\n",
      "   -------------- ------------------------- 0.4/1.2 MB 1.7 MB/s eta 0:00:01\n",
      "   ------------------- -------------------- 0.6/1.2 MB 1.8 MB/s eta 0:00:01\n",
      "   -------------------------- ------------- 0.8/1.2 MB 2.2 MB/s eta 0:00:01\n",
      "   ------------------------------ --------- 0.9/1.2 MB 2.3 MB/s eta 0:00:01\n",
      "   --------------------------------- ------ 1.0/1.2 MB 2.2 MB/s eta 0:00:01\n",
      "   -------------------------------------- - 1.1/1.2 MB 2.3 MB/s eta 0:00:01\n",
      "   -------------------------------------- - 1.1/1.2 MB 2.3 MB/s eta 0:00:01\n",
      "   ---------------------------------------  1.2/1.2 MB 2.0 MB/s eta 0:00:01\n",
      "   ---------------------------------------- 1.2/1.2 MB 1.9 MB/s eta 0:00:00\n",
      "Installing collected packages: psycopg2-binary\n",
      "Successfully installed psycopg2-binary-2.9.9\n"
     ]
    },
    {
     "name": "stderr",
     "output_type": "stream",
     "text": [
      "\n",
      "[notice] A new release of pip is available: 23.3.1 -> 24.0\n",
      "[notice] To update, run: python.exe -m pip install --upgrade pip\n"
     ]
    }
   ],
   "source": [
    "!pip install psycopg2-binary "
   ]
  },
  {
   "cell_type": "code",
   "execution_count": 3,
   "metadata": {},
   "outputs": [
    {
     "name": "stdout",
     "output_type": "stream",
     "text": [
      "Requirement already satisfied: sqlalchemy in c:\\users\\nguye\\appdata\\local\\programs\\python\\python311\\lib\\site-packages (2.0.29)\n",
      "Requirement already satisfied: typing-extensions>=4.6.0 in c:\\users\\nguye\\appdata\\local\\programs\\python\\python311\\lib\\site-packages (from sqlalchemy) (4.11.0)\n",
      "Requirement already satisfied: greenlet!=0.4.17 in c:\\users\\nguye\\appdata\\local\\programs\\python\\python311\\lib\\site-packages (from sqlalchemy) (3.0.3)\n"
     ]
    },
    {
     "name": "stderr",
     "output_type": "stream",
     "text": [
      "\n",
      "[notice] A new release of pip is available: 23.3.1 -> 24.0\n",
      "[notice] To update, run: python.exe -m pip install --upgrade pip\n"
     ]
    }
   ],
   "source": [
    "!pip install sqlalchemy"
   ]
  }
 ],
 "metadata": {
  "kernelspec": {
   "display_name": ".venv",
   "language": "python",
   "name": "python3"
  },
  "language_info": {
   "codemirror_mode": {
    "name": "ipython",
    "version": 3
   },
   "file_extension": ".py",
   "mimetype": "text/x-python",
   "name": "python",
   "nbconvert_exporter": "python",
   "pygments_lexer": "ipython3",
   "version": "3.11.5"
  }
 },
 "nbformat": 4,
 "nbformat_minor": 2
}
